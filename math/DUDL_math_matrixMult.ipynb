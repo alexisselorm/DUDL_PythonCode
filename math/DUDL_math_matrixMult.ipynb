{
 "cells": [
  {
   "cell_type": "markdown",
   "metadata": {
    "id": "bhWV8oes-wKR"
   },
   "source": [
    "# COURSE: A deep understanding of deep learning\n",
    "## SECTION: Math prerequisites\n",
    "### LECTURE: Matrix multiplication\n",
    "#### TEACHER: Mike X Cohen, sincxpress.com\n",
    "##### COURSE URL: udemy.com/course/deeplearning_x/?couponCode=202401"
   ]
  },
  {
   "cell_type": "code",
   "execution_count": 1,
   "metadata": {
    "id": "vRQNyNtlDoOb"
   },
   "outputs": [],
   "source": [
    "# import libraries\n",
    "import numpy as np\n",
    "import torch"
   ]
  },
  {
   "cell_type": "markdown",
   "metadata": {
    "id": "K0BSQG0fDpt_"
   },
   "source": [
    "# Using numpy"
   ]
  },
  {
   "cell_type": "code",
   "execution_count": 2,
   "metadata": {
    "id": "T4_veEYqDpx9"
   },
   "outputs": [
    {
     "name": "stdout",
     "output_type": "stream",
     "text": [
      "[[-1.49  2.31  1.85  0.93  0.48]\n",
      " [-2.31  2.9   5.1   2.04 -1.83]\n",
      " [ 1.23  2.84 -2.5  -0.25  1.18]]\n",
      " \n",
      "[[-1.4   0.48 -3.11  1.06]\n",
      " [ 0.05  2.68 -0.29  0.87]\n",
      " [-0.47 -2.65 -0.32 -0.57]\n",
      " [-0.74  2.56 -2.02  1.33]\n",
      " [ 0.13 -0.65  0.78 -0.27]\n",
      " [ 0.69  2.77 -4.32  0.02]\n",
      " [ 0.69  2.21  1.25  0.31]]\n"
     ]
    }
   ],
   "source": [
    "# create some random matrices\n",
    "A = np.random.randn(3,4)\n",
    "B = np.random.randn(4,5)\n",
    "C = np.random.randn(3,7)\n",
    "\n",
    "# try some multiplications...\n",
    "print(np.round( A@B   ,2)), print(' ')\n",
    "# print(np.round( A@C   ,2)), print(' ')\n",
    "# print(np.round( B@C   ,2)), print(' ')\n",
    "print(np.round( C.T@A ,2))"
   ]
  },
  {
   "cell_type": "markdown",
   "metadata": {
    "id": "89qsNy19Dp1U"
   },
   "source": [
    "# Using pytorch"
   ]
  },
  {
   "cell_type": "code",
   "execution_count": 3,
   "metadata": {
    "id": "4Yrdf4WOEjxz"
   },
   "outputs": [
    {
     "name": "stdout",
     "output_type": "stream",
     "text": [
      "tensor([[ 1.9000,  1.2000,  1.5100, -0.3800, -3.3300, -0.1300, -0.2700],\n",
      "        [-0.2400,  0.4900, -0.0800,  1.8700,  0.1100, -0.8200, -0.9500],\n",
      "        [ 1.5100,  0.3600,  0.9200, -0.0300, -0.8300,  0.2900, -0.6000]],\n",
      "       dtype=torch.float64)\n",
      " \n",
      "tensor([[ 1.9000,  1.2000,  1.5100, -0.3800, -3.3300, -0.1300, -0.2700],\n",
      "        [-0.2400,  0.4900, -0.0800,  1.8700,  0.1100, -0.8200, -0.9500],\n",
      "        [ 1.5100,  0.3600,  0.9200, -0.0300, -0.8300,  0.2900, -0.6000]])\n"
     ]
    }
   ],
   "source": [
    "# create some random matrices\n",
    "A  = torch.randn(3,4)\n",
    "B  = torch.randn(4,5)\n",
    "C1 = np.random.randn(4,7)\n",
    "C2 = torch.tensor( C1,dtype=torch.float )\n",
    "\n",
    "# try some multiplications...\n",
    "# print(np.round( A@B   ,2)), print(' ')\n",
    "# print(np.round( A@B.T ,2)), print(' ')\n",
    "print(np.round( A@C1  ,2)), print(' ')\n",
    "print(np.round( A@C2  ,2))"
   ]
  }
 ],
 "metadata": {
  "colab": {
   "authorship_tag": "ABX9TyN3xNttY0efRLiZkxgkBGe2",
   "collapsed_sections": [],
   "name": "DUDL_math_matrixMult.ipynb",
   "provenance": []
  },
  "kernelspec": {
   "display_name": "deepl",
   "language": "python",
   "name": "python3"
  },
  "language_info": {
   "codemirror_mode": {
    "name": "ipython",
    "version": 3
   },
   "file_extension": ".py",
   "mimetype": "text/x-python",
   "name": "python",
   "nbconvert_exporter": "python",
   "pygments_lexer": "ipython3",
   "version": "3.10.15"
  }
 },
 "nbformat": 4,
 "nbformat_minor": 0
}
